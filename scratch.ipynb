{
 "cells": [
  {
   "cell_type": "code",
   "execution_count": null,
   "id": "0806a557",
   "metadata": {},
   "outputs": [],
   "source": [
    "import os\n",
    "\n",
    "def generate_tree(path='.', prefix='', max_depth=None, current_depth=0):\n",
    "   if max_depth and current_depth >= max_depth:\n",
    "       return\n",
    "   \n",
    "   items = sorted(os.listdir(path))\n",
    "   items = [item for item in items if not item.startswith('.')]\n",
    "   \n",
    "   for i, item in enumerate(items):\n",
    "       item_path = os.path.join(path, item)\n",
    "       is_last = i == len(items) - 1\n",
    "       \n",
    "       print(f\"{prefix}{'└── ' if is_last else '├── '}{item}\")\n",
    "       \n",
    "       if os.path.isdir(item_path):\n",
    "           extension = \"    \" if is_last else \"│   \"\n",
    "           generate_tree(item_path, prefix + extension, max_depth, current_depth + 1)\n",
    "\n",
    "generate_tree()"
   ]
  },
  {
   "cell_type": "code",
   "execution_count": null,
   "id": "bfbac96a",
   "metadata": {},
   "outputs": [],
   "source": []
  }
 ],
 "metadata": {
  "kernelspec": {
   "display_name": ".venv",
   "language": "python",
   "name": "python3"
  },
  "language_info": {
   "codemirror_mode": {
    "name": "ipython",
    "version": 3
   },
   "file_extension": ".py",
   "mimetype": "text/x-python",
   "name": "python",
   "nbconvert_exporter": "python",
   "pygments_lexer": "ipython3",
   "version": "3.12.2"
  }
 },
 "nbformat": 4,
 "nbformat_minor": 5
}
